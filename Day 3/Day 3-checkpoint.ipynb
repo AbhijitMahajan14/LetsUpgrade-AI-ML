{
 "cells": [
  {
   "cell_type": "markdown",
   "metadata": {},
   "source": [
    "# DAY 03 Solved Assignment "
   ]
  },
  {
   "cell_type": "markdown",
   "metadata": {},
   "source": [
    "__1.Write a program to subtract two complex numbers in Python.__"
   ]
  },
  {
   "cell_type": "code",
   "execution_count": 5,
   "metadata": {},
   "outputs": [
    {
     "name": "stdout",
     "output_type": "stream",
     "text": [
      "(1+6j)\n"
     ]
    }
   ],
   "source": [
    "a=5+3j\n",
    "b=4-3j\n",
    "c=a-b\n",
    "print(c)"
   ]
  },
  {
   "cell_type": "markdown",
   "metadata": {},
   "source": [
    "__2.Write a program to find the fourth root of a number.__\n"
   ]
  },
  {
   "cell_type": "code",
   "execution_count": 17,
   "metadata": {},
   "outputs": [
    {
     "name": "stdout",
     "output_type": "stream",
     "text": [
      "2.0\n"
     ]
    }
   ],
   "source": [
    "number=16\n",
    "fourth=0.25\n",
    "ans=number**fourth\n",
    "print(ans)\n",
    "\n"
   ]
  },
  {
   "cell_type": "markdown",
   "metadata": {},
   "source": [
    "__3.Write a program to swap two numbers in Python with the help of a temporary variable.__"
   ]
  },
  {
   "cell_type": "code",
   "execution_count": 24,
   "metadata": {},
   "outputs": [
    {
     "name": "stdout",
     "output_type": "stream",
     "text": [
      "values after swapping:\n",
      "a: 20\n",
      "b: 10\n"
     ]
    }
   ],
   "source": [
    "a=10\n",
    "b=20\n",
    "temp=a\n",
    "a=b\n",
    "b=temp\n",
    "print(\"values after swapping:\")\n",
    "print(\"a:\",a)\n",
    "print(\"b:\",b)"
   ]
  },
  {
   "cell_type": "markdown",
   "metadata": {},
   "source": [
    "__4.Write a program to swap two numbers in Python without using a temporary variable.__\n"
   ]
  },
  {
   "cell_type": "code",
   "execution_count": 23,
   "metadata": {},
   "outputs": [
    {
     "name": "stdout",
     "output_type": "stream",
     "text": [
      "values after swapping:\n",
      "i: 20\n",
      "j: 10\n"
     ]
    }
   ],
   "source": [
    "i=10\n",
    "j=20\n",
    "i=i+j\n",
    "j=i-j\n",
    "i=i-j\n",
    "print(\"values after swapping:\")\n",
    "print(\"i:\",i)\n",
    "print(\"j:\",j)"
   ]
  },
  {
   "cell_type": "markdown",
   "metadata": {},
   "source": [
    "__5.Write a program to convert fahrenheit to kelvin and celsius both.__"
   ]
  },
  {
   "cell_type": "code",
   "execution_count": 26,
   "metadata": {},
   "outputs": [
    {
     "name": "stdout",
     "output_type": "stream",
     "text": [
      "temperature in Celcius: 21.11111111111111\n",
      "temprature in Kelvin: 294.26111111111106\n"
     ]
    }
   ],
   "source": [
    "tempInF=70\n",
    "tempInC=5/9*(tempInF-32)\n",
    "tempInK=5/9*(tempInF-32)+273.15\n",
    "print(\"temperature in Celcius:\",tempInC)\n",
    "print(\"temprature in Kelvin:\",tempInK)"
   ]
  },
  {
   "cell_type": "markdown",
   "metadata": {},
   "source": [
    "__6.Write a program to demonstrate all the available data types in Python.__"
   ]
  },
  {
   "cell_type": "code",
   "execution_count": 31,
   "metadata": {},
   "outputs": [
    {
     "name": "stdout",
     "output_type": "stream",
     "text": [
      "<class 'int'>\n",
      "<class 'complex'>\n",
      "<class 'str'>\n",
      "<class 'list'>\n",
      "<class 'set'>\n",
      "<class 'dict'>\n"
     ]
    }
   ],
   "source": [
    "num=10\n",
    "print(type(num))\n",
    "comp=2+4j\n",
    "print(type(comp))\n",
    "str=\"this is string\"\n",
    "print(type(str))\n",
    "lst=[1,2,4]\n",
    "print(type(lst))\n",
    "st={1,2,3,4,5}\n",
    "print(type(st))\n",
    "dict={1:\"one\",2:\"two\"}\n",
    "print(type(dict))\n"
   ]
  },
  {
   "cell_type": "markdown",
   "metadata": {},
   "source": [
    "__7.Create a Markdown cell in jupyter and list the steps discussed in the session by Dr. Darshan\n",
    "Ingle sir to create Github profile and upload Githubs Assignment link.__"
   ]
  },
  {
   "cell_type": "markdown",
   "metadata": {},
   "source": [
    "__list of discussed in the session by Dr. Darshan Ingle sir to create Github profile :__"
   ]
  },
  {
   "cell_type": "markdown",
   "metadata": {},
   "source": [
    "1. Go to github.com and go for sign up"
   ]
  },
  {
   "cell_type": "markdown",
   "metadata": {},
   "source": [
    "2. After successfully craeting github account , click on new"
   ]
  },
  {
   "cell_type": "markdown",
   "metadata": {},
   "source": [
    "3.  To create repository enter name i.e. LetsUpgrade AI-ML make it public by checking public option"
   ]
  },
  {
   "cell_type": "markdown",
   "metadata": {},
   "source": [
    "4. go for create repository option"
   ]
  },
  {
   "cell_type": "markdown",
   "metadata": {},
   "source": [
    "5. upload the the folder by drage and drop in uploading window"
   ]
  },
  {
   "cell_type": "markdown",
   "metadata": {},
   "source": []
  }
 ],
 "metadata": {
  "kernelspec": {
   "display_name": "Python 3",
   "language": "python",
   "name": "python3"
  },
  "language_info": {
   "codemirror_mode": {
    "name": "ipython",
    "version": 3
   },
   "file_extension": ".py",
   "mimetype": "text/x-python",
   "name": "python",
   "nbconvert_exporter": "python",
   "pygments_lexer": "ipython3",
   "version": "3.7.6"
  }
 },
 "nbformat": 4,
 "nbformat_minor": 4
}
